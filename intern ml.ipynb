{
 "cells": [
  {
   "cell_type": "code",
   "execution_count": 1,
   "metadata": {
    "collapsed": true
   },
   "outputs": [],
   "source": [
    "import pandas as pd"
   ]
  },
  {
   "cell_type": "code",
   "execution_count": 2,
   "metadata": {
    "collapsed": true
   },
   "outputs": [],
   "source": [
    "def load_data():\n",
    "    df = pd.read_csv(\"C:/Users/HP/Desktop/ml_intern-master/ml_intern-master/olympics-mini-project/data/olympics.csv\",header=1,skiprows=[2])\n",
    "    df = df.rename(columns = {'01 !':'Gold','02 !':'Silver','03 !':'Bronze','01 !.1':'Gold1','02 !.1':'Silver1','03 !.1':'Bronze1','01 !.2':'Gold2','02 !.2':'Silver2','03 !.2':'Bronze2'})\n",
    "    add = []\n",
    "    for i in df['Unnamed: 0']:\n",
    "        try:\n",
    "            add.append((i[:i.index('(')]))\n",
    "        except:\n",
    "            add.append('Totals')\n",
    "    df['index'] = add\n",
    "    df.set_index(['index'],inplace=True)\n",
    "    df.drop(['Total','Total.1'],axis=1,inplace=True)\n",
    "    return df\n",
    "            \n",
    "    \n",
    "    \n",
    "    \n",
    "    "
   ]
  },
  {
   "cell_type": "code",
   "execution_count": 3,
   "metadata": {
    "collapsed": true
   },
   "outputs": [],
   "source": [
    "def first_country(df):\n",
    "    \n",
    "    return df.iloc[:1,:]\n",
    "    \n",
    "    "
   ]
  },
  {
   "cell_type": "code",
   "execution_count": 4,
   "metadata": {
    "collapsed": true
   },
   "outputs": [],
   "source": [
    "def gold_medal(df):\n",
    "    df.Gold[:145].idxmax()\n",
    "    return df.Gold2[:145].idxmax()\n",
    "    \n"
   ]
  },
  {
   "cell_type": "code",
   "execution_count": 5,
   "metadata": {
    "collapsed": true
   },
   "outputs": [],
   "source": [
    "def biggest_difference_in_gold_medals(df):\n",
    "    return abs(df.Gold[:145]-df.Gold1[:145]).idxmax()\n",
    "    \n",
    "    "
   ]
  },
  {
   "cell_type": "code",
   "execution_count": 6,
   "metadata": {
    "collapsed": true
   },
   "outputs": [],
   "source": [
    "def get_points(df):\n",
    "    points = pd.Series()\n",
    "    points = 3*df.Gold2+2*df.Silver2+df.Bronze\n",
    "    return points"
   ]
  },
  {
   "cell_type": "code",
   "execution_count": null,
   "metadata": {
    "collapsed": true
   },
   "outputs": [],
   "source": []
  }
 ],
 "metadata": {
  "kernelspec": {
   "display_name": "Python 3",
   "language": "python",
   "name": "python3"
  },
  "language_info": {
   "codemirror_mode": {
    "name": "ipython",
    "version": 3
   },
   "file_extension": ".py",
   "mimetype": "text/x-python",
   "name": "python",
   "nbconvert_exporter": "python",
   "pygments_lexer": "ipython3",
   "version": "3.6.1"
  }
 },
 "nbformat": 4,
 "nbformat_minor": 2
}
