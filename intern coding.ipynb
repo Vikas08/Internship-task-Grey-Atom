{
 "cells": [
  {
   "cell_type": "code",
   "execution_count": 1,
   "metadata": {
    "collapsed": true
   },
   "outputs": [],
   "source": [
    "import math"
   ]
  },
  {
   "cell_type": "code",
   "execution_count": 2,
   "metadata": {
    "collapsed": true
   },
   "outputs": [],
   "source": [
    "class complex_number:\n",
    "    def __init__(self,a,b):\n",
    "        self.real = a\n",
    "        self.imagi = b\n",
    "    def __str__(self):\n",
    "        if(self.imagi>0):\n",
    "            return \"(%s+%si)\"%(self.real,self.imagi)\n",
    "        elif(self.imagi<0):\n",
    "            return \"(%s%si)\"%(self.real,self.imagi)\n",
    "        else:\n",
    "            return \"(%s)\"%(self.real)\n",
    "    def __add__(self,second):\n",
    "        return complex_number(self.real+second.real,self.imagi+second.imagi)\n",
    "    def __sub__(self,second):\n",
    "        return complex_number(self.real-second.real,self.imagi-second.imagi)\n",
    "    def __mul__(self,second):\n",
    "        return complex_number(self.real-second*real-self.imagi*second.imagi)\n",
    "    def abs(self):\n",
    "        return math.sqrt(self.real**2+self.imagi**2)\n",
    "    def real(self):\n",
    "        return self.real\n",
    "    def imag(self):\n",
    "        return self.imagi\n",
    "    def conjugate(self):\n",
    "        return complex_number(self.real,-self.imag)\n",
    "    def argument(self):\n",
    "        if(self.real>0 and self.imagi>0):\n",
    "            return math.degrees(math.atan(self.iamgi/self.real))\n",
    "        elif(self.real>0 and self.imagi<0):\n",
    "            return math.degrees(math.atan(self.imagi/self.real))\n",
    "        elif(self.real<0 and self.imagi>0):\n",
    "            return math.degrees(math.atan(self.imagi/self.real))+180\n",
    "        elif(self.real<0 and self.imagi<0):\n",
    "            return math.degrees(math.atan(self.imagi/self.real))-180\n",
    "        elif(self.iamgi==0):\n",
    "            return 0\n",
    "        else:\n",
    "            return \"division by zero not possible\"\n",
    "    \n",
    "        \n",
    "    \n",
    "    "
   ]
  },
  {
   "cell_type": "code",
   "execution_count": null,
   "metadata": {
    "collapsed": true
   },
   "outputs": [],
   "source": []
  }
 ],
 "metadata": {
  "kernelspec": {
   "display_name": "Python 3",
   "language": "python",
   "name": "python3"
  },
  "language_info": {
   "codemirror_mode": {
    "name": "ipython",
    "version": 3
   },
   "file_extension": ".py",
   "mimetype": "text/x-python",
   "name": "python",
   "nbconvert_exporter": "python",
   "pygments_lexer": "ipython3",
   "version": "3.6.1"
  }
 },
 "nbformat": 4,
 "nbformat_minor": 2
}
